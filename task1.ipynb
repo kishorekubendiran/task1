{
  "cells": [
    {
      "cell_type": "markdown",
      "metadata": {
        "id": "view-in-github",
        "colab_type": "text"
      },
      "source": [
        "<a href=\"https://colab.research.google.com/github/kishorekubendiran/task1/blob/main/task1.ipynb\" target=\"_parent\"><img src=\"https://colab.research.google.com/assets/colab-badge.svg\" alt=\"Open In Colab\"/></a>"
      ]
    },
    {
      "cell_type": "code",
      "source": [
        "import re\n",
        "db=open(\"/content/sample_data/Database.txt\", 'w')"
      ],
      "metadata": {
        "id": "dA0c3AxVtVkv"
      },
      "execution_count": 32,
      "outputs": []
    },
    {
      "cell_type": "code",
      "source": [
        "def firstcode():\n",
        "  code=input(\"register or login \\n\")\n",
        "  if code==\"register\" or code==\"Register\":\n",
        "    signup()\n",
        "  elif code==\"login\" or code==\"Login\":\n",
        "    signin()\n",
        "  else:\n",
        "    print(\"Enter the valid input\")\n",
        "    firstcode()\n",
        "\n",
        "def signup():\n",
        "  user_name=input(\"Enter your user email id: \\n\")\n",
        "  user=\"[a-z 0-9 \\_\\.]+[@][a-z]+[\\.][a-z]{2,3}\"\n",
        "  if re.match(user,user_name):\n",
        "    print('you have entered a vaild user email id')\n",
        "    password=input(\"Enter your password: \\n\")\n",
        "    word=\"^(?=.[a-z])(?=.[A-Z])(?=.[0-9])(?=.[^A-Za-z0-9])(?=.{5,16})\"\n",
        "    if re.match(word, password) and  5<len(password)<16:\n",
        "      print(\"your are succefully signed up\")\n",
        "      db=open(\"/content/sample_data/Database.txt\", 'r')\n",
        "      u_name=[]\n",
        "      p_word=[]\n",
        "      for i in db:\n",
        "        a,b=i.split(\",\")\n",
        "        b=b.strip()\n",
        "        u_name.append(a)\n",
        "        p_word.append(b)\n",
        "      Data = dict(zip(u_name, p_word))\n",
        "      if user_name in u_name:\n",
        "        print(\"please enter new email id, this mail id already exist \\n please select login to access our database\")\n",
        "        firstcode()\n",
        "      else:\n",
        "        print(\"enter a valid password\", password)\n",
        "  else:\n",
        "    print(\"please enter a valid user email id\")\n",
        "    signup()\n",
        "\n",
        "  db=open(\"/content/sample_data/Database.txt\", 'a')\n",
        "  db.write(user_name+\", \" +password+\"\\n\")\n",
        "  print('your are successfully registered to our Database')\n",
        "\n",
        "def signin():\n",
        "  user_name=input(\"Enter your user email id: \\n\")\n",
        "  password=input(\"Enter your password: \\n\")\n",
        "  db=open(\"/content/sample_data/Database.txt\", 'r')    \n",
        "  u_name=[]\n",
        "  p_word=[]\n",
        "  for i in db:\n",
        "    a,b=i.split(\", \")\n",
        "    b=b.strip()\n",
        "    u_name.append(a)\n",
        "    p_word.append(b)\n",
        "  Data =dict(zip(u_name, p_word))\n",
        "  if user_name in u_name:\n",
        "    if password == Data[user_name]:\n",
        "      print(\"you have successfully logged in\")  \n",
        "      print(\"welcome back\", user_name)\n",
        "    else:\n",
        "      print(\"you have entered a wrong password\")\n",
        "      print(\"Forgot password\")\n",
        "      print(\"please enter yes\")\n",
        "      forgot_password=input()\n",
        "      yes=u_name [p_word]\n",
        "      if (forgot_password==yes or forgot_password==Yes):\n",
        "        print(yes) \n",
        "      else:\n",
        "        print(\"please enter the vaild input \\n\",forgot_password)\n",
        "  else:\n",
        "    print(\"user does not exit\")\n",
        "    print(\"please register to enter our database\")\n",
        "    signup()"
      ],
      "metadata": {
        "id": "vlZrfizJtZvA"
      },
      "execution_count": 33,
      "outputs": []
    },
    {
      "cell_type": "code",
      "source": [
        "firstcode()"
      ],
      "metadata": {
        "id": "Tf9JgzF8teKG",
        "colab": {
          "base_uri": "https://localhost:8080/"
        },
        "outputId": "ee46fbc6-0dee-4453-fb2d-387a0b767a73"
      },
      "execution_count": null,
      "outputs": [
        {
          "output_type": "stream",
          "name": "stdout",
          "text": [
            "register or login \n",
            "register\n",
            "Enter your user email id: \n",
            "yukeshan@123\n",
            "please enter a valid user email id\n",
            "Enter your user email id: \n",
            "vija\n",
            "please enter a valid user email id\n"
          ]
        }
      ]
    }
  ],
  "metadata": {
    "colab": {
      "collapsed_sections": [],
      "provenance": [],
      "authorship_tag": "ABX9TyPrl5A5F0xqqItsEYzv03yi",
      "include_colab_link": true
    },
    "kernelspec": {
      "display_name": "Python 3",
      "name": "python3"
    },
    "language_info": {
      "name": "python"
    }
  },
  "nbformat": 4,
  "nbformat_minor": 0
}