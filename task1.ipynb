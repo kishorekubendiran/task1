{
  "cells": [
    {
      "cell_type": "markdown",
      "metadata": {
        "id": "view-in-github",
        "colab_type": "text"
      },
      "source": [
        "<a href=\"https://colab.research.google.com/github/kishorekubendiran/task1/blob/main/task1.ipynb\" target=\"_parent\"><img src=\"https://colab.research.google.com/assets/colab-badge.svg\" alt=\"Open In Colab\"/></a>"
      ]
    },
    {
      "cell_type": "code",
      "execution_count": 1,
      "metadata": {
        "id": "dA0c3AxVtVkv"
      },
      "outputs": [],
      "source": [
        "import re\n",
        "db=open(\"/content/sample_data/Database.txt\", 'w')"
      ]
    },
    {
      "cell_type": "code",
      "execution_count": 11,
      "metadata": {
        "id": "vlZrfizJtZvA"
      },
      "outputs": [],
      "source": [
        "def firstcode():\n",
        "  code=input(\"register or login \\n\")\n",
        "  if code==\"register\" or code==\"Register\":\n",
        "    signup()\n",
        "  elif code==\"login\" or code==\"Login\":\n",
        "    signin()\n",
        "  else:\n",
        "    print(\"Enter the valid input\")\n",
        "    firstcode()\n",
        "\n",
        "def signup():\n",
        "  user_name=input(\"Enter your user email id: \\n\")\n",
        "  user=\"[a-z 0-9 \\_\\.]+[@][a-z]+[\\.][a-z]{2,3}\"\n",
        "  if re.match(user,user_name):\n",
        "    print('you have entered a vaild user email id')\n",
        "    password=input(\"Enter your password: \\n\")\n",
        "    word=\"^(?=.[a-z])(?=.[A-Z])(?=.[0-9])(?=.[^A-Za-z0-9])(?=.{5,16})\"\n",
        "    if re.match(word, password) and  5<len(password)<16:\n",
        "      print(\"your are succefully signed up\")\n",
        "      db=open(\"/content/sample_data/Database.txt\", 'r')\n",
        "      u_name=[]\n",
        "      p_word=[]\n",
        "      for i in db:\n",
        "        a,b=i.split(\",\")\n",
        "        b=b.strip()\n",
        "        u_name.append(a)\n",
        "        p_word.append(b)\n",
        "      Data = dict(zip(u_name, p_word))\n",
        "      if user_name in u_name:\n",
        "        print(\"please enter new email id, this mail id already exist \\n please select login to access our database\")\n",
        "        firstcode()\n",
        "      else:\n",
        "        print(\"enter a valid password\", password)\n",
        "  else:\n",
        "    print(\"please enter a valid user email id\")\n",
        "    signup()\n",
        "\n",
        "  db=open(\"/content/sample_data/Database.txt\", 'a')\n",
        "  db.write(\"user name: \"+user_name+\", password:\" +password+\"\\n\")\n",
        "  print('your are successfully registered to our Database')\n",
        "\n",
        "def signin():\n",
        "  user_name=input(\"Enter your user email id: \\n\")\n",
        "  password=input(\"Enter your password: \\n\")\n",
        "  db=open(\"/content/sample_data/Database.txt\", 'r')    \n",
        "  u_name=[]\n",
        "  p_word=[]\n",
        "  for i in db:\n",
        "    a,b=i.split(\", \")\n",
        "    b=b.strip()\n",
        "    u_name.append(a)\n",
        "    p_word.append(b)\n",
        "  Data =dict(zip(u_name, p_word))\n",
        "  if user_name in u_name:\n",
        "    if password == Data[user_name]:\n",
        "      print(\"you have successfully logged in\")  \n",
        "      print(\"welcome back\", user_name)\n",
        "    else:\n",
        "      print(\"you have entered a wrong password\")\n",
        "      print(\"Forgot password\")\n",
        "      print(\"please enter yes\")\n",
        "      forgot_password=input()\n",
        "      if forgot_password == \"yes\" or forgot_password == \"Yes\":\n",
        "        db=open(\"/content/sample_data/Database.txt\", 'r')\n",
        "        for line in db:\n",
        "          if user_name in line:\n",
        "            print(line)\n",
        "      else:\n",
        "        print(\"please enter the vaild input \\n\",forgot_password)\n",
        "  else:\n",
        "    print(\"user does not exit\")\n",
        "    print(\"please register to enter our database\")\n",
        "    signup()"
      ]
    },
    {
      "cell_type": "code",
      "execution_count": 9,
      "metadata": {
        "colab": {
          "base_uri": "https://localhost:8080/"
        },
        "id": "Tf9JgzF8teKG",
        "outputId": "f8eaf9cc-b4cf-4088-9c3e-408484f6fb9b"
      },
      "outputs": [
        {
          "output_type": "stream",
          "name": "stdout",
          "text": [
            "register or login \n",
            "login\n",
            "Enter your user email id: \n",
            "krish240@gmail.com\n",
            "Enter your password: \n",
            "Vijaya@23\n",
            "you have entered a wrong password\n",
            "Forgot password\n",
            "please enter yes\n",
            "yes\n",
            "krish240@gmail.com, Vijaya@123\n",
            "\n"
          ]
        }
      ],
      "source": [
        "firstcode()"
      ]
    }
  ],
  "metadata": {
    "colab": {
      "collapsed_sections": [],
      "provenance": [],
      "authorship_tag": "ABX9TyPInsCcKnv13iFl4vkNBCD3",
      "include_colab_link": true
    },
    "kernelspec": {
      "display_name": "Python 3",
      "name": "python3"
    },
    "language_info": {
      "name": "python"
    }
  },
  "nbformat": 4,
  "nbformat_minor": 0
}